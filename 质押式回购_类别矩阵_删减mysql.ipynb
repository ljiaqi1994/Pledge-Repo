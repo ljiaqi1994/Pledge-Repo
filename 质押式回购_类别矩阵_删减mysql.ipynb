{
 "cells": [
  {
   "cell_type": "code",
   "execution_count": 25,
   "metadata": {
    "scrolled": true
   },
   "outputs": [],
   "source": [
    "def matrixplot(start_date,end_date,type,term,flag=True): \n",
    "    # Configure plotting in Jupyter\n",
    "    from matplotlib import pyplot as plt\n",
    "    %matplotlib inline\n",
    "    plt.rcParams.update({\n",
    "        'figure.figsize': (26, 15),\n",
    "        'axes.spines.right': False,\n",
    "        'axes.spines.left': False,\n",
    "        'axes.spines.top': False,\n",
    "        'axes.spines.bottom': False})\n",
    "    plt.rcParams['font.sans-serif'] = ['SimHei']\n",
    "    # Seed random number generator\n",
    "    from numpy import random as nprand\n",
    "    seed = hash(\"Network Science in Python\") % 2**32\n",
    "    nprand.seed(seed)\n",
    "    import datetime\n",
    "    import pandas as pd\n",
    "    import numpy as np\n",
    "    import seaborn as sns\n",
    "    from sqlalchemy import create_engine\n",
    "    conn=create_engine('mysql+pymysql://root:lv+7)!@@SHZX@localhost:3306/pledge?charset=gbk')\n",
    "    if term==\"all\":\n",
    "        sql_query = \"select * from trading_data where date_format(日切日期,'%%Y/%%m/%%d')>='{20}' and date_format(日切日期,'%%Y/%%m/%%d')<='{21}' and (正回购方机构类别 = '{2}{0}{3}{0}{4}{0}{5}{0}{6}{0}{7}{0}{8}{0}{9}{0}{10}{0}{11}{0}{12}{0}{13}{0}{14}{0}{15}{0}{16}{0}{17}{0}{18}{0}{19}') and (逆回购方机构类别 = '{2}{1}{3}{1}{4}{1}{5}{1}{6}{1}{7}{1}{8}{1}{9}{1}{10}{1}{11}{1}{12}{1}{13}{1}{14}{1}{15}{1}{16}{1}{17}{1}{18}{1}{19}')\"\\\n",
    "        .format(\"' or 正回购方机构类别 = '\",\"' or 逆回购方机构类别 = '\",'政策性银行','国有控股商业银行','股份制商业银行','城市商业银行','农商行和农合行','村镇银行',\\\n",
    "                '城信社及联社','农信社及联社','邮政储蓄银行','财务公司','信托公司','资产管理公司','证券公司','期货公司','基金公司',\\\n",
    "                '保险公司','保险资产管理公司','保险经纪公司',start_date,end_date)\n",
    "    else:\n",
    "        sql_query = \"select * from trading_data where date_format(日切日期,'%%Y/%%m/%%d')>='{20}' and date_format(日切日期,'%%Y/%%m/%%d')<='{21}' and 回购天数 = {22} and (正回购方机构类别 = '{2}{0}{3}{0}{4}{0}{5}{0}{6}{0}{7}{0}{8}{0}{9}{0}{10}{0}{11}{0}{12}{0}{13}{0}{14}{0}{15}{0}{16}{0}{17}{0}{18}{0}{19}') and (逆回购方机构类别 = '{2}{1}{3}{1}{4}{1}{5}{1}{6}{1}{7}{1}{8}{1}{9}{1}{10}{1}{11}{1}{12}{1}{13}{1}{14}{1}{15}{1}{16}{1}{17}{1}{18}{1}{19}')\"\\\n",
    "        .format(\"' or 正回购方机构类别 = '\",\"' or 逆回购方机构类别 = '\",'政策性银行','国有控股商业银行','股份制商业银行','城市商业银行','农商行和农合行','村镇银行',\\\n",
    "                '城信社及联社','农信社及联社','邮政储蓄银行','财务公司','信托公司','资产管理公司','证券公司','期货公司','基金公司',\\\n",
    "                '保险公司','保险资产管理公司','保险经纪公司',start_date,end_date,term)\n",
    "    df = pd.read_sql(sql_query,con=conn)\n",
    "    title = list(df.columns)\n",
    "    date_idx=title.index('日切日期')\n",
    "    buyertype_idx=title.index('正回购方机构类别')\n",
    "    sellertype_idx=title.index('逆回购方机构类别')\n",
    "    amount_idx=title.index('首期结算金额（亿元）')\n",
    "    rate_idx=title.index('到期预计收益率（%）')\n",
    "    #建立四大类字典\n",
    "    classify_key=['政策性银行','国有控股商业银行','股份制商业银行','城市商业银行','农商行和农合行','村镇银行','城信社及联社',\\\n",
    "                  '农信社及联社','邮政储蓄银行','财务公司','信托公司','资产管理公司','证券公司','期货公司','基金公司','保险公司',\\\n",
    "                  '保险资产管理公司','保险经纪公司']\n",
    "    classify_value=['大行','大行','大行','中行','中行','小行','小行','小行','大行','非银','非银','非银','非银','非银','非银','非银',\\\n",
    "                    '非银','非银']\n",
    "    classify=dict(zip(classify_key,classify_value))\n",
    "#     for i in range(len(df)):\n",
    "#         if df.iloc[i,buyertype_idx] not in classify_key or df.iloc[i,sellertype_idx] not in classify_key:\n",
    "#             df.drop([i])\n",
    "    #flag=FALSE表示四大类分类\n",
    "    if flag:\n",
    "        typelist=['政策性银行','国有控股商业银行','股份制商业银行','城市商业银行','农商行和农合行','村镇银行','城信社及联社',\\\n",
    "                  '农信社及联社','邮政储蓄银行','财务公司','信托公司','资产管理公司','证券公司','期货公司','基金公司','保险公司',\\\n",
    "                  '保险资产管理公司','保险经纪公司']\n",
    "    else:\n",
    "        typelist=['大行','中行','小行','非银']\n",
    "        for i in range(len(df)):\n",
    "            temp=df.iloc[i,buyertype_idx]\n",
    "            df.iloc[i,buyertype_idx]=classify[temp]\n",
    "            temp=df.iloc[i,sellertype_idx]\n",
    "            df.iloc[i,sellertype_idx]=classify[temp]\n",
    "    matrix = pd.DataFrame(np.zeros((len(typelist),len(typelist)),dtype=float),index=typelist,columns=typelist)\n",
    "    start_date = datetime.datetime.strptime(start_date,'%Y/%m/%d')\n",
    "    end_date = datetime.datetime.strptime(end_date,'%Y/%m/%d')\n",
    "    if type==\"amount\":\n",
    "        for i in range(len(df)):\n",
    "            trade_date=datetime.datetime.strptime(df.iloc[i,date_idx],'%Y/%m/%d')\n",
    "            if trade_date>=start_date and trade_date<=end_date:        \n",
    "                matrix.loc[df.iloc[i,buyertype_idx],df.iloc[i,sellertype_idx]]+=float(df.iloc[i,amount_idx])\n",
    "    elif type==\"rate\":        \n",
    "        rate_array=[]\n",
    "        sum=0\n",
    "        count=0\n",
    "        all_rate=[]\n",
    "        for i in range(len(typelist)):\n",
    "            sub_array = []\n",
    "            for j in range(len(typelist)):\n",
    "                sub_array.append([])\n",
    "            rate_array.append(sub_array)\n",
    "        for i in range(len(df)):\n",
    "            trade_date=datetime.datetime.strptime(df.iloc[i,date_idx],'%Y/%m/%d')\n",
    "            if trade_date>=start_date and trade_date<=end_date:\n",
    "                rate_array[typelist.index(df.iloc[i,buyertype_idx])][typelist.index(df.iloc[i,sellertype_idx])].append(df.iloc[i,rate_idx])\n",
    "        for j in range(len(typelist)):\n",
    "            for k in range(len(typelist)):\n",
    "                all_rate.extend(rate_array[j][k])\n",
    "        median=sorted(all_rate)[int(len(all_rate)/2)]\n",
    "        for j in range(len(typelist)):\n",
    "            for k in range(len(typelist)):\n",
    "                if len(rate_array[j][k])==0:\n",
    "                    matrix.iloc[j,k]=median\n",
    "                else:\n",
    "                    matrix.iloc[j,k]=float(sorted(rate_array[j][k])[int(len(rate_array[j][k])/2)])\n",
    "#     matrix[list(matrix.columns)]=matrix[list(matrix.columns)].astype(float)\n",
    "    ax=sns.heatmap(matrix,cmap=\"YlGnBu\",annot=True,fmt='.2f',linewidths=0.05,linecolor='white',annot_kws={'size':8,'weight':'bold'})\n",
    "    ax.set_title('{0} {3} {1}~{2}'.format(type,start_date,end_date,term))\n",
    "    ax.set_xlabel('逆回购方')\n",
    "    ax.set_ylabel('正回购方')\n",
    "    plt.show()"
   ]
  },
  {
   "cell_type": "code",
   "execution_count": 34,
   "metadata": {},
   "outputs": [
    {
     "name": "stdout",
     "output_type": "stream",
     "text": [
      "select min(`到期预计收益率（%）`) from trading_data where (正回购方机构类别 = '政策性银行' or 正回购方机构类别 = '国有控股商业银行' or 正回购方机构类别 = '股份制商业银行' or 正回购方机构类别 = '城市商业银行' or 正回购方机构类别 = '农商行和农合行' or 正回购方机构类别 = '村镇银行' or 正回购方机构类别 = '城信社及联社' or 正回购方机构类别 = '农信社及联社' or 正回购方机构类别 = '邮政储蓄银行' or 正回购方机构类别 = '财务公司' or 正回购方机构类别 = '信托公司' or 正回购方机构类别 = '资产管理公司' or 正回购方机构类别 = '证券公司' or 正回购方机构类别 = '期货公司' or 正回购方机构类别 = '基金公司' or 正回购方机构类别 = '保险公司' or 正回购方机构类别 = '保险资产管理公司' or 正回购方机构类别 = '保险经纪公司') and (逆回购方机构类别 = '政策性银行' or 逆回购方机构类别 = '国有控股商业银行' or 逆回购方机构类别 = '股份制商业银行' or 逆回购方机构类别 = '城市商业银行' or 逆回购方机构类别 = '农商行和农合行' or 逆回购方机构类别 = '村镇银行' or 逆回购方机构类别 = '城信社及联社' or 逆回购方机构类别 = '农信社及联社' or 逆回购方机构类别 = '邮政储蓄银行' or 逆回购方机构类别 = '财务公司' or 逆回购方机构类别 = '信托公司' or 逆回购方机构类别 = '资产管理公司' or 逆回购方机构类别 = '证券公司' or 逆回购方机构类别 = '期货公司' or 逆回购方机构类别 = '基金公司' or 逆回购方机构类别 = '保险公司' or 逆回购方机构类别 = '保险资产管理公司' or 逆回购方机构类别 = '保险经纪公司')\n"
     ]
    }
   ],
   "source": [
    "print(\"select min(`到期预计收益率（%）`) from trading_data where (正回购方机构类别 = '{2}{0}{3}{0}{4}{0}{5}{0}{6}{0}{7}{0}{8}{0}{9}{0}{10}{0}{11}{0}{12}{0}{13}{0}{14}{0}{15}{0}{16}{0}{17}{0}{18}{0}{19}') and (逆回购方机构类别 = '{2}{1}{3}{1}{4}{1}{5}{1}{6}{1}{7}{1}{8}{1}{9}{1}{10}{1}{11}{1}{12}{1}{13}{1}{14}{1}{15}{1}{16}{1}{17}{1}{18}{1}{19}')\"\\\n",
    "        .format(\"' or 正回购方机构类别 = '\",\"' or 逆回购方机构类别 = '\",'政策性银行','国有控股商业银行','股份制商业银行','城市商业银行','农商行和农合行','村镇银行',\\\n",
    "                '城信社及联社','农信社及联社','邮政储蓄银行','财务公司','信托公司','资产管理公司','证券公司','期货公司','基金公司',\\\n",
    "                '保险公司','保险资产管理公司','保险经纪公司'))"
   ]
  },
  {
   "cell_type": "code",
   "execution_count": 26,
   "metadata": {
    "scrolled": true
   },
   "outputs": [
    {
     "data": {
      "image/png": "[encoded data removed]",
      "text/plain": [
       "<Figure size 1872x1080 with 2 Axes>"
      ]
     },
     "metadata": {
      "needs_background": "light"
     },
     "output_type": "display_data"
    }
   ],
   "source": [
    "matrixplot(\"2019/05/05\",\"2019/05/24\",flag=False,type=\"rate\",term=2)"
   ]
  }
 ],
 "metadata": {
  "kernelspec": {
   "display_name": "Python 3",
   "language": "python",
   "name": "python3"
  },
  "language_info": {
   "codemirror_mode": {
    "name": "ipython",
    "version": 3
   },
   "file_extension": ".py",
   "mimetype": "text/x-python",
   "name": "python",
   "nbconvert_exporter": "python",
   "pygments_lexer": "ipython3",
   "version": "3.7.3"
  }
 },
 "nbformat": 4,
 "nbformat_minor": 2
}
